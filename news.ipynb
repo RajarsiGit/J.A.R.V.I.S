{
 "cells": [
  {
   "cell_type": "code",
   "execution_count": null,
   "metadata": {},
   "outputs": [],
   "source": [
    "import requests\n",
    "import json\n",
    "import pyttsx3\n",
    "engine = pyttsx3.init('sapi5')\n",
    "voices = engine.getProperty('voices')\n",
    "engine.setProperty('voice', voices[0].id)"
   ]
  },
  {
   "cell_type": "code",
   "execution_count": null,
   "metadata": {},
   "outputs": [],
   "source": [
    "def speak(audio):\n",
    "    engine.say(audio)\n",
    "    engine.runAndWait()"
   ]
  },
  {
   "cell_type": "code",
   "execution_count": null,
   "metadata": {},
   "outputs": [],
   "source": [
    "def speak_news():\n",
    "    url = 'http://newsapi.org/v2/top-headlines?sources=the-times-of-india&apiKey=ad7fdf189fbf471eb5ba13c04b1dbf58'\n",
    "    news = requests.get(url).text\n",
    "    news_dict = json.loads(news)\n",
    "    arts = news_dict['articles']\n",
    "    speak('Source: The Times Of India')\n",
    "    speak('Todays Headlines are..')\n",
    "    for index, articles in enumerate(arts):\n",
    "        speak(articles['title'])\n",
    "        if index == len(arts)-1:\n",
    "            break\n",
    "        speak('Moving on the next news headline..')\n",
    "    speak('These were the top headlines, Have a nice day Sir!!..')"
   ]
  },
  {
   "cell_type": "code",
   "execution_count": null,
   "metadata": {},
   "outputs": [],
   "source": [
    "if __name__ == '__main__':\n",
    "    speak_news()"
   ]
  },
  {
   "cell_type": "code",
   "execution_count": null,
   "metadata": {},
   "outputs": [],
   "source": []
  }
 ],
 "metadata": {
  "kernelspec": {
   "display_name": "Python 3",
   "language": "python",
   "name": "python3"
  },
  "language_info": {
   "codemirror_mode": {
    "name": "ipython",
    "version": 3
   },
   "file_extension": ".py",
   "mimetype": "text/x-python",
   "name": "python",
   "nbconvert_exporter": "python",
   "pygments_lexer": "ipython3",
   "version": "3.7.8"
  }
 },
 "nbformat": 4,
 "nbformat_minor": 4
}
