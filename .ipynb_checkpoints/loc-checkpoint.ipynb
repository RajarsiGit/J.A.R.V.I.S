{
 "cells": [
  {
   "cell_type": "code",
   "execution_count": 1,
   "metadata": {},
   "outputs": [],
   "source": [
    "import geocoder\n",
    "import requests\n",
    "import json\n",
    "import pyttsx3\n",
    "\n",
    "g = geocoder.ip('me')\n",
    "\n",
    "engine = pyttsx3.init()\n",
    "voices = engine.getProperty('voices')\n",
    "engine.setProperty('voice', voices[0].id)"
   ]
  },
  {
   "cell_type": "code",
   "execution_count": 2,
   "metadata": {},
   "outputs": [],
   "source": [
    "def speak(audio):\n",
    "    engine.say(audio)\n",
    "    engine.runAndWait()"
   ]
  },
  {
   "cell_type": "code",
   "execution_count": 3,
   "metadata": {},
   "outputs": [],
   "source": [
    "def weather():\n",
    "    lat = str(g.latlng[0])\n",
    "    lng = str(g.latlng[1])\n",
    "    api_url = \"https://fcc-weather-api.glitch.me/api/current?lat=\" + lat + \"&lon=\" + lng\n",
    "    data = requests.get(api_url)\n",
    "    data_json = data.json()\n",
    "    if data_json['cod'] == 200:\n",
    "        main = data_json['main']\n",
    "        wind = data_json['wind']\n",
    "        weather_desc = data_json['weather'][0]\n",
    "        print(str(data_json['coord']['lat']) + ' latitude ' + str(data_json['coord']['lon']) + ' longitude')\n",
    "        speak(str(data_json['coord']['lat']) + ' latitude ' + str(data_json['coord']['lon']) + ' longitude')\n",
    "        print('Current location is ' + data_json['name'] + ' ' + data_json['sys']['country'] + 'dia')\n",
    "        speak('Current location is ' + data_json['name'] + ' ' + data_json['sys']['country'] + 'dia')\n",
    "        print('Weather type ' + weather_desc['main'])\n",
    "        speak('Weather type ' + weather_desc['main'])\n",
    "        print('Wind speed is ' + str(wind['speed']) + ' Metre per Second')\n",
    "        speak('Wind speed is ' + str(wind['speed']) + ' Metre per Second')\n",
    "        print('Temperature: ' + str(main['temp']) + ' Degree Celcius')\n",
    "        speak('Temperature: ' + str(main['temp']) + ' Degree Celcius')\n",
    "        print('Humidity is ' + str(main['humidity']))\n",
    "        speak('Humidity is ' + str(main['humidity']))"
   ]
  },
  {
   "cell_type": "code",
   "execution_count": 4,
   "metadata": {},
   "outputs": [
    {
     "name": "stdout",
     "output_type": "stream",
     "text": [
      "35 latitude 139 longitude\n",
      "Current location is Shuzenji JPdia\n",
      "Weather type Clouds\n",
      "Wind speed is 3.6 Metre per Second\n",
      "Temperature: 28.23 Degree Celcius\n",
      "Humidity is 74\n"
     ]
    }
   ],
   "source": [
    "if __name__ == '__main__':\n",
    "    weather()"
   ]
  },
  {
   "cell_type": "code",
   "execution_count": null,
   "metadata": {},
   "outputs": [],
   "source": []
  }
 ],
 "metadata": {
  "kernelspec": {
   "display_name": "Python 3",
   "language": "python",
   "name": "python3"
  },
  "language_info": {
   "codemirror_mode": {
    "name": "ipython",
    "version": 3
   },
   "file_extension": ".py",
   "mimetype": "text/x-python",
   "name": "python",
   "nbconvert_exporter": "python",
   "pygments_lexer": "ipython3",
   "version": "3.7.8"
  }
 },
 "nbformat": 4,
 "nbformat_minor": 4
}
